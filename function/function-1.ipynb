{
 "cells": [
  {
   "cell_type": "code",
   "execution_count": 2,
   "metadata": {},
   "outputs": [
    {
     "name": "stdout",
     "output_type": "stream",
     "text": [
      "Starting program...\n",
      "Hello, Avik\n",
      "Calling again...\n",
      "Hello, Biyas\n"
     ]
    }
   ],
   "source": [
    "# function definition\n",
    "def greet():\n",
    "    name = input(\"Enter your name : \")\n",
    "    # print(\"Hello,\", name)\n",
    "    print(f\"Hello, {name}\")\n",
    "\n",
    "# main body\n",
    "print(\"Starting program...\")\n",
    "greet()\n",
    "print(\"Calling again...\")\n",
    "greet()\n",
    "\n"
   ]
  },
  {
   "cell_type": "code",
   "execution_count": 4,
   "metadata": {},
   "outputs": [
    {
     "name": "stdout",
     "output_type": "stream",
     "text": [
      "Hello, Avik\n"
     ]
    }
   ],
   "source": [
    "# function definition\n",
    "def greet(x):\n",
    "    print(f\"Hello, {x}\")\n",
    "\n",
    "# main body\n",
    "name = input(\"Enter your name : \")\n",
    "greet(name)"
   ]
  },
  {
   "cell_type": "code",
   "execution_count": 5,
   "metadata": {},
   "outputs": [
    {
     "name": "stdout",
     "output_type": "stream",
     "text": [
      "11\n"
     ]
    }
   ],
   "source": [
    "# function definition\n",
    "def sum(x, y):\n",
    "    ans = x + y\n",
    "    return ans\n",
    "\n",
    "# main body\n",
    "x = int(input())\n",
    "y = int(input())\n",
    "result = sum(x, y)\n",
    "print(result)"
   ]
  },
  {
   "cell_type": "code",
   "execution_count": 6,
   "metadata": {},
   "outputs": [
    {
     "name": "stdout",
     "output_type": "stream",
     "text": [
      "11\n"
     ]
    }
   ],
   "source": [
    "# function definition\n",
    "def sum(x, y):\n",
    "    # ans = x + y\n",
    "    return x + y\n",
    "\n",
    "# main body\n",
    "x = int(input())\n",
    "y = int(input())\n",
    "# result = sum(x, y)\n",
    "print(sum(x, y))"
   ]
  },
  {
   "cell_type": "markdown",
   "metadata": {},
   "source": [
    "## Missing values"
   ]
  },
  {
   "cell_type": "code",
   "execution_count": 9,
   "metadata": {},
   "outputs": [
    {
     "ename": "TypeError",
     "evalue": "sum() missing 1 required positional argument: 'y'",
     "output_type": "error",
     "traceback": [
      "\u001b[1;31m---------------------------------------------------------------------------\u001b[0m",
      "\u001b[1;31mTypeError\u001b[0m                                 Traceback (most recent call last)",
      "Cell \u001b[1;32mIn[9], line 6\u001b[0m\n\u001b[0;32m      3\u001b[0m     \u001b[39mreturn\u001b[39;00m x \u001b[39m+\u001b[39m y\n\u001b[0;32m      5\u001b[0m \u001b[39m# main body\u001b[39;00m\n\u001b[1;32m----> 6\u001b[0m \u001b[39mprint\u001b[39m(\u001b[39msum\u001b[39;49m(\u001b[39m5\u001b[39;49m)) \u001b[39m# error as one argument is missing\u001b[39;00m\n",
      "\u001b[1;31mTypeError\u001b[0m: sum() missing 1 required positional argument: 'y'"
     ]
    }
   ],
   "source": [
    "# function definition\n",
    "def sum(x, y):\n",
    "    return x + y\n",
    "\n",
    "# main body\n",
    "print(sum(5)) # error as one argument is missing"
   ]
  },
  {
   "cell_type": "markdown",
   "metadata": {},
   "source": [
    "### Solution with default value of argument"
   ]
  },
  {
   "cell_type": "code",
   "execution_count": 10,
   "metadata": {},
   "outputs": [
    {
     "name": "stdout",
     "output_type": "stream",
     "text": [
      "15\n"
     ]
    }
   ],
   "source": [
    "# function definition\n",
    "def sum(x, y = 10): # 10 will be used if y is not passed\n",
    "    return x + y\n",
    "\n",
    "# main body\n",
    "print(sum(5))"
   ]
  },
  {
   "cell_type": "code",
   "execution_count": 11,
   "metadata": {},
   "outputs": [
    {
     "name": "stdout",
     "output_type": "stream",
     "text": [
      "11\n"
     ]
    }
   ],
   "source": [
    "# function definition\n",
    "def sum(x, y = 10): # 10 will be used if y is not passed\n",
    "    return x + y\n",
    "\n",
    "# main body\n",
    "print(sum(5, 6))"
   ]
  },
  {
   "cell_type": "markdown",
   "metadata": {},
   "source": [
    "## pass"
   ]
  },
  {
   "cell_type": "code",
   "execution_count": 17,
   "metadata": {},
   "outputs": [
    {
     "name": "stdout",
     "output_type": "stream",
     "text": [
      "I'm just checking my code...\n"
     ]
    }
   ],
   "source": [
    "# function definition\n",
    "def sum(x, y):\n",
    "    pass # to avoid error\n",
    "\n",
    "# main body\n",
    "print(\"I'm just checking my code...\")"
   ]
  }
 ],
 "metadata": {
  "kernelspec": {
   "display_name": "Python 3",
   "language": "python",
   "name": "python3"
  },
  "language_info": {
   "codemirror_mode": {
    "name": "ipython",
    "version": 3
   },
   "file_extension": ".py",
   "mimetype": "text/x-python",
   "name": "python",
   "nbconvert_exporter": "python",
   "pygments_lexer": "ipython3",
   "version": "3.11.4"
  },
  "orig_nbformat": 4
 },
 "nbformat": 4,
 "nbformat_minor": 2
}
