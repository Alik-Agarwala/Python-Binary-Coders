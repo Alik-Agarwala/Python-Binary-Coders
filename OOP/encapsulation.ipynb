{
 "cells": [
  {
   "cell_type": "code",
   "execution_count": 6,
   "metadata": {},
   "outputs": [
    {
     "name": "stdout",
     "output_type": "stream",
     "text": [
      "BCD@123\n"
     ]
    }
   ],
   "source": [
    "class User:\n",
    "    __password = \"BCD@123\" # private scope ... not visible outside the class\n",
    "\n",
    "    def get_credentials(self):\n",
    "        passkey = input(\"Enter passkey to view credentials : \")\n",
    "        if passkey == \"123\":\n",
    "            print(self.__password)\n",
    "        else:\n",
    "            print(\"Wrong passkey! Access denied!\")\n",
    "\n",
    "u = User()\n",
    "u.get_credentials() # show the password"
   ]
  }
 ],
 "metadata": {
  "kernelspec": {
   "display_name": "Python 3",
   "language": "python",
   "name": "python3"
  },
  "language_info": {
   "codemirror_mode": {
    "name": "ipython",
    "version": 3
   },
   "file_extension": ".py",
   "mimetype": "text/x-python",
   "name": "python",
   "nbconvert_exporter": "python",
   "pygments_lexer": "ipython3",
   "version": "3.11.4"
  },
  "orig_nbformat": 4
 },
 "nbformat": 4,
 "nbformat_minor": 2
}
