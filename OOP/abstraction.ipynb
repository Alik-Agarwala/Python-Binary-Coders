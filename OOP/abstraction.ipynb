{
 "cells": [
  {
   "cell_type": "code",
   "execution_count": 2,
   "metadata": {},
   "outputs": [
    {
     "name": "stdout",
     "output_type": "stream",
     "text": [
      "Updated x_coordinate is 11\n",
      "Updated x_coordinate is 12\n",
      "Updated x_coordinate is 13\n"
     ]
    }
   ],
   "source": [
    "class Game:\n",
    "    __x_coordinate = 10 # private\n",
    "\n",
    "    def move_forward(self):\n",
    "        self.__x_coordinate += 1 # increment the coordinate with 1\n",
    "        print(f\"Updated x_coordinate is {self.__x_coordinate}\")\n",
    "\n",
    "\n",
    "g = Game()\n",
    "g.move_forward()\n",
    "g.move_forward()\n",
    "g.move_forward()"
   ]
  },
  {
   "cell_type": "code",
   "execution_count": 3,
   "metadata": {},
   "outputs": [
    {
     "name": "stdout",
     "output_type": "stream",
     "text": [
      "Bhow Bhow\n",
      "I eat Dog food.\n",
      "Meow Meow\n",
      "I eat Cat food.\n"
     ]
    }
   ],
   "source": [
    "class Animal:\n",
    "    def speak():\n",
    "        pass\n",
    "    def eat():\n",
    "        pass\n",
    "\n",
    "class Dog(Animal):\n",
    "    def speak():\n",
    "        print(\"Bhow Bhow\")\n",
    "    def eat():\n",
    "        print(\"I eat Dog food.\")\n",
    "\n",
    "class Cat(Animal):\n",
    "    def speak():\n",
    "        print(\"Meow Meow\")\n",
    "    def eat():\n",
    "        print(\"I eat Cat food.\")\n",
    "\n",
    "Dog.speak()\n",
    "Dog.eat()\n",
    "\n",
    "Cat.speak()\n",
    "Cat.eat()"
   ]
  }
 ],
 "metadata": {
  "kernelspec": {
   "display_name": "Python 3",
   "language": "python",
   "name": "python3"
  },
  "language_info": {
   "codemirror_mode": {
    "name": "ipython",
    "version": 3
   },
   "file_extension": ".py",
   "mimetype": "text/x-python",
   "name": "python",
   "nbconvert_exporter": "python",
   "pygments_lexer": "ipython3",
   "version": "3.11.4"
  },
  "orig_nbformat": 4
 },
 "nbformat": 4,
 "nbformat_minor": 2
}
