{
 "cells": [
  {
   "cell_type": "code",
   "execution_count": 1,
   "metadata": {},
   "outputs": [
    {
     "name": "stdout",
     "output_type": "stream",
     "text": [
      "Avik 18\n"
     ]
    }
   ],
   "source": [
    "class A: # parent class\n",
    "    name = \"Avik\"\n",
    "\n",
    "class B(A): # child class\n",
    "    # name = \"Avik\"\n",
    "    age = 18\n",
    "\n",
    "obj = B()\n",
    "print(obj.name, obj.age)"
   ]
  },
  {
   "cell_type": "code",
   "execution_count": 2,
   "metadata": {},
   "outputs": [
    {
     "ename": "AttributeError",
     "evalue": "'A' object has no attribute 'age'",
     "output_type": "error",
     "traceback": [
      "\u001b[1;31m---------------------------------------------------------------------------\u001b[0m",
      "\u001b[1;31mAttributeError\u001b[0m                            Traceback (most recent call last)",
      "\u001b[1;32mc:\\Users\\avika\\Documents\\GitHub\\Python-Binary-Coders\\OOP\\inheritance.ipynb Cell 2\u001b[0m line \u001b[0;36m2\n\u001b[0;32m      <a href='vscode-notebook-cell:/c%3A/Users/avika/Documents/GitHub/Python-Binary-Coders/OOP/inheritance.ipynb#W1sZmlsZQ%3D%3D?line=0'>1</a>\u001b[0m obj \u001b[39m=\u001b[39m A()\n\u001b[1;32m----> <a href='vscode-notebook-cell:/c%3A/Users/avika/Documents/GitHub/Python-Binary-Coders/OOP/inheritance.ipynb#W1sZmlsZQ%3D%3D?line=1'>2</a>\u001b[0m \u001b[39mprint\u001b[39m(obj\u001b[39m.\u001b[39;49mage) \u001b[39m# will cause an error\u001b[39;00m\n",
      "\u001b[1;31mAttributeError\u001b[0m: 'A' object has no attribute 'age'"
     ]
    }
   ],
   "source": [
    "obj = A()\n",
    "print(obj.age) # will cause an error"
   ]
  }
 ],
 "metadata": {
  "kernelspec": {
   "display_name": "Python 3",
   "language": "python",
   "name": "python3"
  },
  "language_info": {
   "codemirror_mode": {
    "name": "ipython",
    "version": 3
   },
   "file_extension": ".py",
   "mimetype": "text/x-python",
   "name": "python",
   "nbconvert_exporter": "python",
   "pygments_lexer": "ipython3",
   "version": "3.11.4"
  },
  "orig_nbformat": 4
 },
 "nbformat": 4,
 "nbformat_minor": 2
}
