{
 "cells": [
  {
   "cell_type": "markdown",
   "metadata": {},
   "source": [
    "## NOT RECOMMENED WAY"
   ]
  },
  {
   "cell_type": "code",
   "execution_count": 1,
   "metadata": {},
   "outputs": [
    {
     "name": "stdout",
     "output_type": "stream",
     "text": [
      "Name = Avik, Sec = C, Roll = 12\n",
      "Name = Alik, Sec = B, Roll = 75\n",
      "Name = Puja, Sec = A, Roll = 43\n"
     ]
    }
   ],
   "source": [
    "class Student:\n",
    "    name = None\n",
    "    sec = None\n",
    "    roll = None\n",
    "\n",
    "s1 = Student()\n",
    "s2 = Student()\n",
    "s3 = Student()\n",
    "\n",
    "s1.name = \"Avik\"\n",
    "s1.sec = 'C'\n",
    "s1.roll = 12\n",
    "\n",
    "s2.name = \"Alik\"\n",
    "s2.sec = 'B'\n",
    "s2.roll = 75\n",
    "\n",
    "s3.name = \"Puja\"\n",
    "s3.sec = 'A'\n",
    "s3.roll = 43\n",
    "\n",
    "print(f\"Name = {s1.name}, Sec = {s1.sec}, Roll = {s1.roll}\")\n",
    "print(f\"Name = {s2.name}, Sec = {s2.sec}, Roll = {s2.roll}\")\n",
    "print(f\"Name = {s3.name}, Sec = {s3.sec}, Roll = {s3.roll}\")"
   ]
  },
  {
   "cell_type": "markdown",
   "metadata": {},
   "source": [
    "## RECOMMENDED WAY"
   ]
  },
  {
   "cell_type": "code",
   "execution_count": 7,
   "metadata": {},
   "outputs": [
    {
     "name": "stdout",
     "output_type": "stream",
     "text": [
      "Name = Avik, Sec = C, Roll = 12\n",
      "Name = Alik, Sec = B, Roll = 75\n",
      "Name = Puja, Sec = A, Roll = 43\n"
     ]
    }
   ],
   "source": [
    "class Student:\n",
    "    name = None\n",
    "    sec = None\n",
    "    roll = None\n",
    "\n",
    "    def set_details(self, name, sec, roll): # def set_details(self, x, y, z):\n",
    "        self.name = name\n",
    "        self.sec = sec\n",
    "        self.roll = roll\n",
    "        # self.name = x\n",
    "        # self.sec = y\n",
    "        # self.roll = z\n",
    "\n",
    "    def get_details(self):\n",
    "        print(f\"Name = {self.name}, Sec = {self.sec}, Roll = {self.roll}\")\n",
    "\n",
    "s1 = Student()\n",
    "s2 = Student()\n",
    "s3 = Student()\n",
    "\n",
    "s1.set_details(\"Avik\", 'C', 12)\n",
    "s2.set_details(\"Alik\", 'B', 75)\n",
    "s3.set_details(\"Puja\", 'A', 43)\n",
    "\n",
    "s1.get_details()\n",
    "s2.get_details()\n",
    "s3.get_details()\n",
    "\n",
    "\n"
   ]
  }
 ],
 "metadata": {
  "kernelspec": {
   "display_name": "Python 3",
   "language": "python",
   "name": "python3"
  },
  "language_info": {
   "codemirror_mode": {
    "name": "ipython",
    "version": 3
   },
   "file_extension": ".py",
   "mimetype": "text/x-python",
   "name": "python",
   "nbconvert_exporter": "python",
   "pygments_lexer": "ipython3",
   "version": "3.11.4"
  },
  "orig_nbformat": 4
 },
 "nbformat": 4,
 "nbformat_minor": 2
}
