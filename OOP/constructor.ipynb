{
 "cells": [
  {
   "cell_type": "markdown",
   "metadata": {},
   "source": [
    "## WITHOUT CONSTRUCTOR"
   ]
  },
  {
   "cell_type": "code",
   "execution_count": 1,
   "metadata": {},
   "outputs": [
    {
     "name": "stdout",
     "output_type": "stream",
     "text": [
      "Name = Avik, Sec = C, Roll = 12\n",
      "Name = Alik, Sec = B, Roll = 75\n",
      "Name = Puja, Sec = A, Roll = 43\n"
     ]
    }
   ],
   "source": [
    "class Student:\n",
    "\n",
    "    def set_details(self, name, sec, roll):\n",
    "        self.name = name\n",
    "        self.sec = sec\n",
    "        self.roll = roll\n",
    "\n",
    "    def get_details(self):\n",
    "        print(f\"Name = {self.name}, Sec = {self.sec}, Roll = {self.roll}\")\n",
    "\n",
    "# creation of object\n",
    "s1 = Student()\n",
    "s2 = Student()\n",
    "s3 = Student()\n",
    "\n",
    "s1.set_details(\"Avik\", 'C', 12)\n",
    "s2.set_details(\"Alik\", 'B', 75)\n",
    "s3.set_details(\"Puja\", 'A', 43)\n",
    "\n",
    "s1.get_details()\n",
    "s2.get_details()\n",
    "s3.get_details()"
   ]
  },
  {
   "cell_type": "markdown",
   "metadata": {},
   "source": [
    "## WITH CONSTRUCTOR"
   ]
  },
  {
   "cell_type": "code",
   "execution_count": 2,
   "metadata": {},
   "outputs": [
    {
     "name": "stdout",
     "output_type": "stream",
     "text": [
      "Name = Avik, Sec = C, Roll = 12\n",
      "Name = Alik, Sec = B, Roll = 75\n",
      "Name = Puja, Sec = A, Roll = 43\n"
     ]
    }
   ],
   "source": [
    "class Student:\n",
    "\n",
    "    def __init__(self, name, sec, roll): # called automatically upon creation of object\n",
    "        self.name = name\n",
    "        self.sec = sec\n",
    "        self.roll = roll\n",
    "\n",
    "    def get_details(self):\n",
    "        print(f\"Name = {self.name}, Sec = {self.sec}, Roll = {self.roll}\")\n",
    "\n",
    "# creation of object\n",
    "s1 = Student(\"Avik\", 'C', 12)\n",
    "s2 = Student(\"Alik\", 'B', 75)\n",
    "s3 = Student(\"Puja\", 'A', 43)\n",
    "\n",
    "s1.get_details()\n",
    "s2.get_details()\n",
    "s3.get_details()"
   ]
  }
 ],
 "metadata": {
  "kernelspec": {
   "display_name": "Python 3",
   "language": "python",
   "name": "python3"
  },
  "language_info": {
   "codemirror_mode": {
    "name": "ipython",
    "version": 3
   },
   "file_extension": ".py",
   "mimetype": "text/x-python",
   "name": "python",
   "nbconvert_exporter": "python",
   "pygments_lexer": "ipython3",
   "version": "3.11.4"
  },
  "orig_nbformat": 4
 },
 "nbformat": 4,
 "nbformat_minor": 2
}
