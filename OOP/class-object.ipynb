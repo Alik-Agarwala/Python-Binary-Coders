{
 "cells": [
  {
   "cell_type": "code",
   "execution_count": 3,
   "metadata": {},
   "outputs": [
    {
     "name": "stdout",
     "output_type": "stream",
     "text": [
      "h1's name is Avik\n",
      "h2's age is 18\n"
     ]
    }
   ],
   "source": [
    "class Human: # defining class\n",
    "    eyes = 2\n",
    "    name = None\n",
    "    age = None\n",
    "\n",
    "h1 = Human() # creating object of Human class\n",
    "h2 = Human() # creating object of Human class\n",
    "\n",
    "h1.name = \"Avik\"\n",
    "\n",
    "h2.age = 18\n",
    "\n",
    "print(f\"h1's name is {h1.name}\")\n",
    "print(f\"h2's age is {h2.age}\")"
   ]
  },
  {
   "cell_type": "code",
   "execution_count": 9,
   "metadata": {},
   "outputs": [
    {
     "name": "stdout",
     "output_type": "stream",
     "text": [
      "I love to code!\n",
      "I love to code!\n",
      "I love to eat biryani and momos.\n"
     ]
    }
   ],
   "source": [
    "class Coder:\n",
    "    # attributes / properties\n",
    "    name = None\n",
    "\n",
    "    # behaviours / methods\n",
    "    def hobby(self):\n",
    "        print(\"I love to code!\")\n",
    "\n",
    "    def eat(self, food_1, food_2):\n",
    "        print(f\"I love to eat {food_1} and {food_2}.\")\n",
    "\n",
    "\n",
    "avik = Coder()\n",
    "pritam = Coder()\n",
    "\n",
    "avik.hobby() # Coder.hobby(avik)\n",
    "Coder.hobby(avik)\n",
    "\n",
    "pritam.eat(\"biryani\", \"momos\") # Coder.eat(pritam, \"biryani\", \"momos\")\n"
   ]
  }
 ],
 "metadata": {
  "kernelspec": {
   "display_name": "Python 3",
   "language": "python",
   "name": "python3"
  },
  "language_info": {
   "codemirror_mode": {
    "name": "ipython",
    "version": 3
   },
   "file_extension": ".py",
   "mimetype": "text/x-python",
   "name": "python",
   "nbconvert_exporter": "python",
   "pygments_lexer": "ipython3",
   "version": "3.11.4"
  },
  "orig_nbformat": 4
 },
 "nbformat": 4,
 "nbformat_minor": 2
}
